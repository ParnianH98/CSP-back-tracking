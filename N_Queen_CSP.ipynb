{
  "nbformat": 4,
  "nbformat_minor": 0,
  "metadata": {
    "colab": {
      "name": "N-Queen - CSP.ipynb",
      "provenance": [],
      "collapsed_sections": [],
      "include_colab_link": true
    },
    "kernelspec": {
      "name": "python3",
      "display_name": "Python 3"
    },
    "language_info": {
      "name": "python"
    }
  },
  "cells": [
    {
      "cell_type": "markdown",
      "metadata": {
        "id": "view-in-github",
        "colab_type": "text"
      },
      "source": [
        "<a href=\"https://colab.research.google.com/github/ParnianH98/CSP-back-tracking/blob/main/N_Queen_CSP.ipynb\" target=\"_parent\"><img src=\"https://colab.research.google.com/assets/colab-badge.svg\" alt=\"Open In Colab\"/></a>"
      ]
    },
    {
      "cell_type": "code",
      "metadata": {
        "id": "9Sda4wa6_MGE"
      },
      "source": [
        "import numpy as np\n",
        "import random"
      ],
      "execution_count": null,
      "outputs": []
    },
    {
      "cell_type": "code",
      "metadata": {
        "id": "lEKUbQDu_Rea"
      },
      "source": [
        "n=8\n",
        "### matrix as the game board\n",
        "board = np.zeros((n,n))\n"
      ],
      "execution_count": null,
      "outputs": []
    },
    {
      "cell_type": "code",
      "metadata": {
        "id": "8uQH6KKf9iPM"
      },
      "source": [
        "def ISuitAble(index, col):\n",
        "\n",
        "    ## no need for columnal checking\n",
        "    ## to check row threating\n",
        "    for i in range(col):\n",
        "        if board[index][i] == 1:\n",
        "            return False\n",
        "\n",
        "    ## to check diagonal ...\n",
        "    for j in range(col):\n",
        "        for i in range(n):\n",
        "            if board[i][j] == 1 and ((i-index == j-col) or (index-i == j-col)):\n",
        "                return False\n",
        "  \n",
        "    return True"
      ],
      "execution_count": null,
      "outputs": []
    },
    {
      "cell_type": "code",
      "metadata": {
        "id": "vXq9s9R0WkqU"
      },
      "source": [
        "def Queen_setting(col):\n",
        "   \n",
        "    ### all vertices are colored\n",
        "    if (col == n):\n",
        "        ## if the setting is suitable\n",
        "        return True\n",
        " \n",
        "    for i in range(n):\n",
        "        if ISuitAble(i, col):\n",
        "            board[i][col] = 1\n",
        " \n",
        "            if Queen_setting(col+1) == True:\n",
        "                return True\n",
        "  \n",
        "                # If placing queen in board[i][col\n",
        "                # doesn't lead to a solution, then\n",
        "                # queen from board[i][col]\n",
        "        board[i][col] = 0\n",
        "  \n",
        "    # if the queen can not be placed in any row in\n",
        "    # this colum col  then return false\n",
        "    return False"
      ],
      "execution_count": null,
      "outputs": []
    },
    {
      "cell_type": "code",
      "metadata": {
        "id": "qy8wCELgBO8z",
        "colab": {
          "base_uri": "https://localhost:8080/"
        },
        "outputId": "46f71105-4826-4b7f-ff6f-51b7203e3f44"
      },
      "source": [
        "if Queen_setting(0) == False:\n",
        "    print(\"Solution does not exist\")\n",
        "print(board)"
      ],
      "execution_count": null,
      "outputs": [
        {
          "output_type": "stream",
          "text": [
            "[[1. 0. 0. 0. 0. 0. 0. 0.]\n",
            " [0. 0. 0. 0. 0. 0. 1. 0.]\n",
            " [0. 0. 0. 0. 1. 0. 0. 0.]\n",
            " [0. 0. 0. 0. 0. 0. 0. 1.]\n",
            " [0. 1. 0. 0. 0. 0. 0. 0.]\n",
            " [0. 0. 0. 1. 0. 0. 0. 0.]\n",
            " [0. 0. 0. 0. 0. 1. 0. 0.]\n",
            " [0. 0. 1. 0. 0. 0. 0. 0.]]\n"
          ],
          "name": "stdout"
        }
      ]
    }
  ]
}
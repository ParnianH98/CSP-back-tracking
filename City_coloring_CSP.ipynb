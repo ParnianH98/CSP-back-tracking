{
  "nbformat": 4,
  "nbformat_minor": 0,
  "metadata": {
    "colab": {
      "name": "City coloring - CSP.ipynb",
      "provenance": [],
      "collapsed_sections": [],
      "authorship_tag": "ABX9TyPuVGNajruVvXhShL+Fn5NW",
      "include_colab_link": true
    },
    "kernelspec": {
      "name": "python3",
      "display_name": "Python 3"
    },
    "language_info": {
      "name": "python"
    }
  },
  "cells": [
    {
      "cell_type": "markdown",
      "metadata": {
        "id": "view-in-github",
        "colab_type": "text"
      },
      "source": [
        "<a href=\"https://colab.research.google.com/github/ParnianH98/CSP-back-tracking/blob/main/City_coloring_CSP.ipynb\" target=\"_parent\"><img src=\"https://colab.research.google.com/assets/colab-badge.svg\" alt=\"Open In Colab\"/></a>"
      ]
    },
    {
      "cell_type": "code",
      "metadata": {
        "id": "9Sda4wa6_MGE"
      },
      "source": [
        "import numpy as np\n",
        "import random"
      ],
      "execution_count": null,
      "outputs": []
    },
    {
      "cell_type": "markdown",
      "metadata": {
        "id": "ITDWBugbds_s"
      },
      "source": [
        "global var"
      ]
    },
    {
      "cell_type": "code",
      "metadata": {
        "id": "lEKUbQDu_Rea"
      },
      "source": [
        "n=6\n",
        "color_num=3\n",
        "### matrix as a graph\n",
        "graph=np.zeros((n,n))\n",
        "### color of vertice number i\n",
        "### zero means not colored yet\n",
        "color=np.zeros(n)"
      ],
      "execution_count": null,
      "outputs": []
    },
    {
      "cell_type": "markdown",
      "metadata": {
        "id": "YH98d9ItXncz"
      },
      "source": [
        "generate a random n*n symmetric binary matrix"
      ]
    },
    {
      "cell_type": "code",
      "metadata": {
        "id": "9EqnvTWnKPTM"
      },
      "source": [
        "def gen_random_symmetric_binary_mat():\n",
        "  ### generate n*n random binary matrix\n",
        "  mat = np.random.randint(2,size=(n,n))\n",
        "  ### return symmetric\n",
        "  return (mat+mat.T)%2"
      ],
      "execution_count": null,
      "outputs": []
    },
    {
      "cell_type": "markdown",
      "metadata": {
        "id": "Zniue-0sanax"
      },
      "source": [
        "to check if to vertices are connected, the colors are the same(fail condition)\n",
        "or not"
      ]
    },
    {
      "cell_type": "code",
      "metadata": {
        "id": "8uQH6KKf9iPM"
      },
      "source": [
        "def ISuitAble():\n",
        "    for i in range(n):\n",
        "        for j in range(i + 1, n):\n",
        "            ### if graph[i][j] != 0 and the values are equal, the graph is not IISuitAble\n",
        "            ### the row i and col j are two connected vertices\n",
        "            ### so their color should be different\n",
        "            if (graph[i][j] and color[i] == color[j]):\n",
        "                return False\n",
        "    return True"
      ],
      "execution_count": null,
      "outputs": []
    },
    {
      "cell_type": "markdown",
      "metadata": {
        "id": "VOosS4WwZnhv"
      },
      "source": [
        "step by step color nodes by the first color which does not exist in it's neighbours"
      ]
    },
    {
      "cell_type": "code",
      "metadata": {
        "id": "qy8wCELgBO8z"
      },
      "source": [
        "def coloring(colN, index):\n",
        "   \n",
        "    ### all vertices are colored\n",
        "    if (index == n):\n",
        "        ## if the coloring is suitable\n",
        "        if (ISuitAble()):\n",
        "            print(\"Vertice colors by order, are:\")\n",
        "            print(color)\n",
        "            return True\n",
        "        return False\n",
        " \n",
        "    ### colors are diff numbers from 1 to colN\n",
        "    for i in range(1, colN+1):\n",
        "        color[index] = i\n",
        " \n",
        "        ### to check if this color fits or should be changed\n",
        "        if (coloring(colN, index + 1)):\n",
        "            return True\n",
        "        ### if the color does not fit, cange it to the next color\n",
        "        color[index] = 0\n",
        "    return False"
      ],
      "execution_count": null,
      "outputs": []
    },
    {
      "cell_type": "markdown",
      "metadata": {
        "id": "RI9oYGurdmr_"
      },
      "source": [
        "codes starts there"
      ]
    },
    {
      "cell_type": "code",
      "metadata": {
        "colab": {
          "base_uri": "https://localhost:8080/"
        },
        "id": "LL1ITp1TIWjW",
        "outputId": "8f4185a3-9150-4571-d2ae-f788940345ca"
      },
      "source": [
        "graph = gen_random_symmetric_binary_mat()\n",
        "print(graph)\n",
        "if (not coloring(color_num, 0)):\n",
        "        print (\"Solution does not exist\")"
      ],
      "execution_count": null,
      "outputs": [
        {
          "output_type": "stream",
          "text": [
            "[[0 0 1 1 0 0]\n",
            " [0 0 0 0 0 0]\n",
            " [1 0 0 1 1 0]\n",
            " [1 0 1 0 1 0]\n",
            " [0 0 1 1 0 0]\n",
            " [0 0 0 0 0 0]]\n",
            "Vertice colors by order, are:\n",
            "[1. 1. 2. 3. 1. 1.]\n"
          ],
          "name": "stdout"
        }
      ]
    }
  ]
}